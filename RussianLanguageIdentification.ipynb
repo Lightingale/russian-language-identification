{
 "cells": [
  {
   "cell_type": "markdown",
   "metadata": {},
   "source": [
    "## Формулировка задачи\n",
    "Представим, что вы - разработчик в отделе машинного обучения и перед вами поставлена задача разработать модуль автоматического обнаружения русскоязычных текстов. На вход подаётся большой набор документов, среди которых нужно обнаружить тексты, содержащие значительные фрагменты на русском языке."
   ]
  },
  {
   "cell_type": "markdown",
   "metadata": {},
   "source": [
    "## Решение"
   ]
  },
  {
   "cell_type": "code",
   "execution_count": 1,
   "metadata": {},
   "outputs": [],
   "source": [
    "from collections import defaultdict\n",
    "from matplotlib import pyplot as plt\n",
    "import numpy as np\n",
    "import os\n",
    "import pandas as pd\n",
    "import re\n",
    "from sklearn.metrics import precision_score, recall_score, confusion_matrix, f1_score\n",
    "import time\n",
    "from tqdm import tqdm\n",
    "import unicodedata"
   ]
  },
  {
   "cell_type": "markdown",
   "metadata": {},
   "source": [
    "Для начала посмотрим на данные, приведенные в качестве примеров, чтобы понять, с чем имеем дело. Отфильтруем тексты, в которых содержится хотя бы одна буква русского алфавита (что является необходимым условием для русскоязычности текста, транслит не рассматриваем)"
   ]
  },
  {
   "cell_type": "code",
   "execution_count": 2,
   "metadata": {},
   "outputs": [],
   "source": [
    "data_dir = 'data'\n",
    "filenames = sorted(os.listdir(data_dir))"
   ]
  },
  {
   "cell_type": "code",
   "execution_count": 3,
   "metadata": {},
   "outputs": [],
   "source": [
    "russian_contents = []\n",
    "token_counts = []\n",
    "pattern = re.compile(r'[а-яА-Я]+')"
   ]
  },
  {
   "cell_type": "code",
   "execution_count": 4,
   "metadata": {},
   "outputs": [
    {
     "name": "stdout",
     "output_type": "stream",
     "text": [
      "Буквы русского алфавита содержат 386 из 2654 текстов в папке (14.54%)\n"
     ]
    }
   ],
   "source": [
    "for filename in filenames:\n",
    "    with open(os.path.join(data_dir, filename)) as f:\n",
    "        content = f.read()\n",
    "        token_counts.append(len(content.split()))\n",
    "        if pattern.search(content):\n",
    "            russian_contents.append(content)\n",
    "\n",
    "print(f'Буквы русского алфавита содержат {len(russian_contents)} из {len(filenames)} текстов в папке',\n",
    "      f'({round(len(russian_contents) / len(filenames) * 100, 2)}%)')"
   ]
  },
  {
   "cell_type": "markdown",
   "metadata": {},
   "source": [
    "Посмотрим на распределение количества токенов в текстах."
   ]
  },
  {
   "cell_type": "code",
   "execution_count": 5,
   "metadata": {},
   "outputs": [
    {
     "data": {
      "image/png": "[encoded data removed]",
      "text/plain": [
       "<Figure size 432x288 with 1 Axes>"
      ]
     },
     "metadata": {
      "needs_background": "light"
     },
     "output_type": "display_data"
    }
   ],
   "source": [
    "plt.hist(token_counts, bins=30);"
   ]
  },
  {
   "cell_type": "code",
   "execution_count": 6,
   "metadata": {},
   "outputs": [
    {
     "data": {
      "text/plain": [
       "381.24642049736246"
      ]
     },
     "execution_count": 6,
     "metadata": {},
     "output_type": "execute_result"
    }
   ],
   "source": [
    "np.mean(token_counts)"
   ]
  },
  {
   "cell_type": "code",
   "execution_count": 7,
   "metadata": {},
   "outputs": [],
   "source": [
    "# for content in russian_contents:\n",
    "#     print(content)\n",
    "#     print('\\n\\n---------------------------------------------------------------\\n\\n')"
   ]
  },
  {
   "cell_type": "markdown",
   "metadata": {},
   "source": [
    "Беглый просмотр отфильтрованных текстов показывает, что все они являются текстами, написанными преимущественно на одном языке. Большинство из них - на русском языке, однако встречаются и тексты на украинском или белорусском языках, а также один текст на языке с преимущественно латинскими буквами в алфавите."
   ]
  },
  {
   "cell_type": "code",
   "execution_count": 8,
   "metadata": {
    "scrolled": true
   },
   "outputs": [
    {
     "data": {
      "text/plain": [
       "0.14544084400904295"
      ]
     },
     "execution_count": 8,
     "metadata": {},
     "output_type": "execute_result"
    }
   ],
   "source": [
    "len(russian_contents) / len(filenames)"
   ]
  },
  {
   "cell_type": "markdown",
   "metadata": {},
   "source": [
    "# Сравнение методов определения языка текста\n",
    "\n",
    "Большая часть методов взята отсюда: https://stackoverflow.com/questions/39142778/python-how-to-determine-the-language.\n",
    "\n",
    "Для оценки качества будем использовать:\n",
    "1. Датасет WiLI (https://arxiv.org/abs/1801.07779), состоящий из фрагментов статей Википедии на разных языках (относительно длинные тексты)\n",
    "2. Датасет twituser (https://www.aclweb.org/anthology/W14-1303/), состоящий из твитов (короткие тексты)"
   ]
  },
  {
   "cell_type": "markdown",
   "metadata": {},
   "source": [
    "### обрабатываем датасет WiLI"
   ]
  },
  {
   "cell_type": "code",
   "execution_count": 9,
   "metadata": {},
   "outputs": [
    {
     "name": "stdout",
     "output_type": "stream",
     "text": [
      "--2020-07-19 19:10:54--  https://zenodo.org/record/841984/files/wili-2018.zip\n",
      "Распознаётся zenodo.org (zenodo.org)… 188.184.117.155\n",
      "Подключение к zenodo.org (zenodo.org)|188.184.117.155|:443... соединение установлено.\n",
      "HTTP-запрос отправлен. Ожидание ответа… 200 OK\n",
      "Длина: 62403646 (60M) [application/octet-stream]\n",
      "Сохранение в: «./datasets/wili-2018.zip»\n",
      "\n",
      "wili-2018.zip       100%[===================>]  59,51M  1,13MB/s    за 61s     \n",
      "\n",
      "2020-07-19 19:11:56 (998 KB/s) - «./datasets/wili-2018.zip» сохранён [62403646/62403646]\n",
      "\n",
      "Archive:  datasets/wili-2018.zip\n",
      "  inflating: datasets/wili-2018/x_train.txt  \n",
      "  inflating: datasets/wili-2018/y_train.txt  \n",
      "  inflating: datasets/wili-2018/x_test.txt  \n",
      "  inflating: datasets/wili-2018/y_test.txt  \n",
      "  inflating: datasets/wili-2018/labels.csv  \n",
      "  inflating: datasets/wili-2018/README.txt  \n",
      "  inflating: datasets/wili-2018/urls.txt  \n",
      "--2020-07-19 19:11:57--  https://people.eng.unimelb.edu.au/tbaldwin/data/lasm2014-twituser-v1.tgz\n",
      "Распознаётся people.eng.unimelb.edu.au (people.eng.unimelb.edu.au)… 128.250.106.64\n",
      "Подключение к people.eng.unimelb.edu.au (people.eng.unimelb.edu.au)|128.250.106.64|:443... соединение установлено.\n",
      "HTTP-запрос отправлен. Ожидание ответа… 200 OK\n",
      "Длина: 1042418 (1018K) [application/x-gzip]\n",
      "Сохранение в: «./datasets/lasm2014-twituser-v1.tgz»\n",
      "\n",
      "lasm2014-twituser-v 100%[===================>]   1018K   300KB/s    за 3,4s    \n",
      "\n",
      "2020-07-19 19:12:02 (300 KB/s) - «./datasets/lasm2014-twituser-v1.tgz» сохранён [1042418/1042418]\n",
      "\n"
     ]
    }
   ],
   "source": [
    "! wget https://zenodo.org/record/841984/files/wili-2018.zip -P ./datasets\n",
    "! unzip datasets/wili-2018.zip -d datasets/wili-2018\n",
    "! wget https://people.eng.unimelb.edu.au/tbaldwin/data/lasm2014-twituser-v1.tgz -P ./datasets\n",
    "! tar --extract --file datasets/lasm2014-twituser-v1.tgz -C datasets"
   ]
  },
  {
   "cell_type": "code",
   "execution_count": 10,
   "metadata": {},
   "outputs": [],
   "source": [
    "texts = dict()\n",
    "labels = dict()\n",
    "binary_labels = dict()"
   ]
  },
  {
   "cell_type": "code",
   "execution_count": 11,
   "metadata": {},
   "outputs": [],
   "source": [
    "wili_token_counts = []\n",
    "\n",
    "with open('datasets/wili-2018/x_test.txt') as f:\n",
    "    wili_texts = []\n",
    "    for line in f:\n",
    "        text = line.rstrip()\n",
    "        wili_token_counts.append(len(text.split()))\n",
    "        wili_texts.append(text)\n",
    "\n",
    "with open('datasets/wili-2018/y_test.txt') as f:\n",
    "    wili_labels = [line.rstrip() for line in f]\n",
    "\n"
   ]
  },
  {
   "cell_type": "code",
   "execution_count": 12,
   "metadata": {},
   "outputs": [
    {
     "name": "stdout",
     "output_type": "stream",
     "text": [
      "rus Townes, H. T. (1969): Genera of Ichneumonidae, Part 3 (Lycorininae, Banchinae, Scolobatinae =Ctenopelmatinae), Porizontinae =Campopleginae). — Memoirs of the American Entomological Institute 13: 1-307.\n"
     ]
    }
   ],
   "source": [
    "# ошибочно русский текст, исправляем метку\n",
    "ind = 12492\n",
    "print(wili_labels[ind], wili_texts[ind])\n",
    "wili_labels[ind] = 'eng'"
   ]
  },
  {
   "cell_type": "code",
   "execution_count": 13,
   "metadata": {},
   "outputs": [
    {
     "name": "stdout",
     "output_type": "stream",
     "text": [
      "Среднее число токенов в WiLI 54.6116085106383\n"
     ]
    },
    {
     "data": {
      "image/png": "[encoded data removed]",
      "text/plain": [
       "<Figure size 432x288 with 1 Axes>"
      ]
     },
     "metadata": {
      "needs_background": "light"
     },
     "output_type": "display_data"
    }
   ],
   "source": [
    "plt.hist(wili_token_counts, bins=30, range=(0, 500))\n",
    "print('Среднее число токенов в WiLI', np.mean(wili_token_counts))"
   ]
  },
  {
   "cell_type": "code",
   "execution_count": 14,
   "metadata": {},
   "outputs": [
    {
     "name": "stdout",
     "output_type": "stream",
     "text": [
      "Труд М. В. Ломоносова «Явление Венеры на Солнце, наблюдённое в Санктпетербургской Императорской Академии Наук Майя 26 дня 1761 года» (Санкт-Петербург: Типография Академии наук, 1761) был напечатан на русском и немецком языках (нем. Erscheinung der Venus vor der Sonne beobachtet bei der Kaiserlichen Akademie der Wissenschaften: Aus dem Russischen übersetzt. St. Petersbourg, 1761) и, следовательно, были известны в Западной Европе, поскольку публикации Академии рассылались в её крупнейшие научные центры, однако открытие атмосферы на Венере приписывалось И. И. Шрётеру и Ф. В. Гершелю. Председатель Американского химического общества профессор Колумбийского университета А. Смит в 1912 году писал: «Открытие, сделанное при этом Ломоносовым о наличии атмосферы на этой планете, обычно приписывают Шретеру и Гершелю», Любопытно, что сам М. В. Ломоносов этому открытию не придавал большого значения, во всяком случае, оно даже не упомянуто в составленном им списке работ, которые он относил к наиболее важным в своём научном творчестве (см. раздел «Итог»).\n"
     ]
    }
   ],
   "source": [
    "examples = dict()\n",
    "examples['wili'] = wili_texts[55171]\n",
    "print(examples['wili'])"
   ]
  },
  {
   "cell_type": "markdown",
   "metadata": {},
   "source": [
    "В датасете WiLI содержится много фрагментов текста, извлеченных из списка литературы. Такие фрагменты имеют метку, совпадающую с языком статьи, хотя название книги и имена автора могут быть на другом языке. Чтобы не использовать такие примеры при оценке качества идентификации русского языка, уберем их из датасета. Для фильтрации используется регулярное выражение, распознающее конструкции вида \"с. 237-239\", а также символы \"//\". Было проверено, что почти все тексты, содержащие такие конструкции, являются фрагментом списка литературы."
   ]
  },
  {
   "cell_type": "code",
   "execution_count": 15,
   "metadata": {},
   "outputs": [],
   "source": [
    "def check_literature(text):\n",
    "    # грубая проверка, является ли текст фрагментом списка литературы\n",
    "    if '//' in text:\n",
    "        return True\n",
    "    if re.search(r' [сС]\\.[ ]?\\d+-?\\d+', text):\n",
    "        return True\n",
    "    return False"
   ]
  },
  {
   "cell_type": "code",
   "execution_count": 16,
   "metadata": {},
   "outputs": [],
   "source": [
    "texts['wili'] = []\n",
    "labels['wili'] = []\n",
    "\n",
    "for i in range(len(wili_texts)):\n",
    "    if not check_literature(wili_texts[i]):\n",
    "        texts['wili'].append(wili_texts[i])\n",
    "        labels['wili'].append(wili_labels[i])"
   ]
  },
  {
   "cell_type": "code",
   "execution_count": 17,
   "metadata": {},
   "outputs": [],
   "source": [
    "binary_labels['wili'] = [int(label == 'rus') for label in labels['wili']]"
   ]
  },
  {
   "cell_type": "markdown",
   "metadata": {},
   "source": [
    "### обрабатываем датасет twituser"
   ]
  },
  {
   "cell_type": "code",
   "execution_count": 18,
   "metadata": {},
   "outputs": [],
   "source": [
    "import json \n",
    "with open('datasets/twituser-v1/twituser') as f:\n",
    "    twitter_data = [json.loads(line) for line in f.readlines()]"
   ]
  },
  {
   "cell_type": "code",
   "execution_count": 19,
   "metadata": {},
   "outputs": [],
   "source": [
    "twitter_df = pd.DataFrame(twitter_data)\n",
    "twitter_df['label'] = (twitter_df['lang'] == 'ru').astype(int)\n",
    "\n",
    "texts['twit'] = list(twitter_df['text'])\n",
    "labels['twit'] = list(twitter_df['lang'])\n",
    "binary_labels['twit'] = list(twitter_df['label'])"
   ]
  },
  {
   "cell_type": "code",
   "execution_count": 20,
   "metadata": {},
   "outputs": [],
   "source": [
    "# for i, label in enumerate(binary_labels['twit']):\n",
    "#     if label == 1:\n",
    "#         print(i)\n",
    "#         print(texts['twit'][i])\n",
    "#         print('\\n-----------------------\\n')"
   ]
  },
  {
   "cell_type": "code",
   "execution_count": 21,
   "metadata": {},
   "outputs": [
    {
     "name": "stdout",
     "output_type": "stream",
     "text": [
      "@YashaMyaus no. he's 36. it's too much *тренируюсь на иностранном\n"
     ]
    }
   ],
   "source": [
    "examples['twit'] = texts['twit'][1611]\n",
    "print(examples['twit'])"
   ]
  },
  {
   "cell_type": "code",
   "execution_count": 22,
   "metadata": {},
   "outputs": [
    {
     "name": "stdout",
     "output_type": "stream",
     "text": [
      "Среднее число токенов в twituser 10.967132176611653\n"
     ]
    },
    {
     "data": {
      "image/png": "[encoded data removed]",
      "text/plain": [
       "<Figure size 432x288 with 1 Axes>"
      ]
     },
     "metadata": {
      "needs_background": "light"
     },
     "output_type": "display_data"
    }
   ],
   "source": [
    "twit_token_counts = [len(text.split()) for text in texts['twit']]\n",
    "plt.hist(twit_token_counts)\n",
    "print('Среднее число токенов в twituser', np.mean(twit_token_counts))"
   ]
  },
  {
   "cell_type": "markdown",
   "metadata": {},
   "source": [
    "### служебные функции"
   ]
  },
  {
   "cell_type": "code",
   "execution_count": 23,
   "metadata": {},
   "outputs": [],
   "source": [
    "predictions = defaultdict(lambda: defaultdict(list))\n",
    "binary_predictions = defaultdict(lambda: defaultdict(list))\n",
    "results = []\n",
    "data_names = ['wili', 'twit']"
   ]
  },
  {
   "cell_type": "code",
   "execution_count": 24,
   "metadata": {},
   "outputs": [],
   "source": [
    "def estimate_quality(method_name, data_name):\n",
    "    # оценка качества модели\n",
    "    y_true = binary_labels[data_name]\n",
    "    y_pred = binary_predictions[method_name][data_name]\n",
    "    precision = round(100 * precision_score(y_true, y_pred), 2)\n",
    "    recall = round(100 * recall_score(y_true, y_pred), 2)\n",
    "    f1 = round(100 * f1_score(y_true, y_pred), 2)\n",
    "    print(f'Precision: {precision}')\n",
    "    print(f'Recall: {recall}')\n",
    "    print(f'F1: {f1}')\n",
    "\n",
    "    print('Contingency table:')\n",
    "    print(pd.crosstab(pd.Series(y_true), pd.Series(y_pred), rownames=['Actual'], colnames=['Predicted'],margins=True))\n",
    "    return precision, recall, f1\n",
    "    \n",
    "def sample_errors(method_name, data_name, n=5, output_dir='errors'):\n",
    "    # запись в файл n случайных ошибок определения языка для двух типов ошибки - FP и FN\n",
    "    y_true = binary_labels[data_name]\n",
    "    y_pred = binary_predictions[method_name][data_name]\n",
    "    \n",
    "    error_indices = {\n",
    "        'False Positive': [],\n",
    "        'False Negative': [],\n",
    "    }\n",
    "\n",
    "    for i, (yt, yp) in enumerate(zip(y_true, y_pred)):\n",
    "        if yt == 1 and yp == 0:\n",
    "            error_indices['False Negative'].append(i)\n",
    "        elif yt == 0 and yp == 1:\n",
    "            error_indices['False Positive'].append(i)\n",
    "    \n",
    "    \n",
    "    if not os.path.isdir(output_dir):    \n",
    "        os.mkdir(output_dir)\n",
    "    output_file = os.path.join(output_dir, f'{method_name}_{data_name}_errors.txt')\n",
    "    with open(output_file, 'w') as f:\n",
    "        for error_type, indices in error_indices.items():\n",
    "            f.write(f'{error_type} samples:\\n\\n')\n",
    "            if len(indices) > n:\n",
    "                indices = np.random.choice(indices, n, replace=False)\n",
    "\n",
    "            for i in indices:\n",
    "                f.write(f'Index: {i}\\n')\n",
    "                f.write(f'Text:\\n{texts[data_name][i]}\\n')\n",
    "                f.write(f'Actual language: {labels[data_name][i]}\\n')\n",
    "                f.write(f'Predicted language: {predictions[method_name][data_name][i]}\\n')\n",
    "                f.write('-----------------\\n')\n",
    "            f.write('\\n\\n\\n')\n",
    "\n",
    "\n",
    "def run_experiments(method_name, detector_func):\n",
    "    # проверка функции определения языка\n",
    "    result_info = {\n",
    "        'method_name': method_name,\n",
    "    }\n",
    "\n",
    "\n",
    "    for data_name in data_names:\n",
    "        predictions[method_name][data_name] = []\n",
    "        binary_predictions[method_name][data_name] = []\n",
    "\n",
    "        start_time = time.time()\n",
    "        for text in tqdm(texts[data_name]):\n",
    "            prediction, binary_prediction = detector_func(text)\n",
    "            predictions[method_name][data_name].append(prediction)\n",
    "            binary_predictions[method_name][data_name].append(binary_prediction)\n",
    "        exec_time = time.time() - start_time\n",
    "\n",
    "        print(f'{data_name} quality:')\n",
    "\n",
    "        prec, rec, f1 = estimate_quality(method_name, data_name)\n",
    "        result_info[f'{data_name}_precision'] = prec\n",
    "        result_info[f'{data_name}_recall'] = rec\n",
    "        result_info[f'{data_name}_f1'] = f1\n",
    "        result_info[f'{data_name}_time'] = round(exec_time, 2)\n",
    "\n",
    "    return result_info\n"
   ]
  },
  {
   "cell_type": "markdown",
   "metadata": {},
   "source": [
    "## Оценка качества"
   ]
  },
  {
   "cell_type": "markdown",
   "metadata": {},
   "source": [
    "Далее оценим качество нескольких методов идентификации текста. Будем также измерять время работы методов."
   ]
  },
  {
   "cell_type": "markdown",
   "metadata": {},
   "source": [
    "## Regex baseline"
   ]
  },
  {
   "cell_type": "code",
   "execution_count": 25,
   "metadata": {},
   "outputs": [
    {
     "name": "stderr",
     "output_type": "stream",
     "text": [
      "100%|██████████| 117072/117072 [00:00<00:00, 142661.15it/s]\n"
     ]
    },
    {
     "name": "stdout",
     "output_type": "stream",
     "text": [
      "wili quality:\n"
     ]
    },
    {
     "name": "stderr",
     "output_type": "stream",
     "text": [
      "100%|██████████| 14178/14178 [00:00<00:00, 498468.91it/s]"
     ]
    },
    {
     "name": "stdout",
     "output_type": "stream",
     "text": [
      "Precision: 2.96\n",
      "Recall: 100.0\n",
      "F1: 5.75\n",
      "Contingency table:\n",
      "Predicted       0      1     All\n",
      "Actual                          \n",
      "0          100997  15599  116596\n",
      "1               0    476     476\n",
      "All        100997  16075  117072\n",
      "twit quality:\n",
      "Precision: 55.18\n",
      "Recall: 99.79\n",
      "F1: 71.06\n",
      "Contingency table:\n",
      "Predicted      0    1    All\n",
      "Actual                      \n",
      "0          13298  394  13692\n",
      "1              1  485    486\n",
      "All        13299  879  14178\n"
     ]
    },
    {
     "name": "stderr",
     "output_type": "stream",
     "text": [
      "\n"
     ]
    }
   ],
   "source": [
    "method_name = 'regex'\n",
    "\n",
    "def regex_detector_func(text):\n",
    "    search_result = pattern.search(text)\n",
    "    prediction = 'ru' if search_result else 'unknown'\n",
    "    binary_prediction = 1 if search_result else 0\n",
    "    return prediction, binary_prediction\n",
    "\n",
    "result_info = run_experiments(method_name, regex_detector_func)\n",
    "    \n",
    "results.append(result_info)\n"
   ]
  },
  {
   "cell_type": "markdown",
   "metadata": {},
   "source": [
    "## CLD2"
   ]
  },
  {
   "cell_type": "code",
   "execution_count": 26,
   "metadata": {},
   "outputs": [
    {
     "name": "stdout",
     "output_type": "stream",
     "text": [
      "wili example predictions:\n",
      "(('RUSSIAN', 'ru', 87, 536.0), ('GERMAN', 'de', 9, 965.0), ('Unknown', 'un', 0, 0.0))\n",
      "((0, 412, 'RUSSIAN', 'ru'), (412, 151, 'GERMAN', 'de'), (563, 61, 'Unknown', 'un'), (624, 1163, 'RUSSIAN', 'ru'))\n",
      "\n",
      "twit example predictions:\n",
      "(('RUSSIAN', 'ru', 58, 710.0), ('ENGLISH', 'en', 39, 899.0), ('Unknown', 'un', 0, 0.0))\n",
      "((0, 88, 'Unknown', 'un'),)\n",
      "\n"
     ]
    }
   ],
   "source": [
    "import pycld2 as cld2\n",
    "\n",
    "method_name = 'cld2'\n",
    "for data_name in data_names:\n",
    "    print(f'{data_name} example predictions:')\n",
    "    _, _, languages, vectors = cld2.detect(examples[data_name], returnVectors=True)\n",
    "    print(languages)\n",
    "    print(vectors)\n",
    "    print()\n"
   ]
  },
  {
   "cell_type": "code",
   "execution_count": 27,
   "metadata": {
    "scrolled": false
   },
   "outputs": [
    {
     "name": "stderr",
     "output_type": "stream",
     "text": [
      "100%|██████████| 117072/117072 [00:04<00:00, 24330.21it/s]\n"
     ]
    },
    {
     "name": "stdout",
     "output_type": "stream",
     "text": [
      "wili quality:\n"
     ]
    },
    {
     "name": "stderr",
     "output_type": "stream",
     "text": [
      " 55%|█████▍    | 7783/14178 [00:00<00:00, 77825.06it/s]"
     ]
    },
    {
     "name": "stdout",
     "output_type": "stream",
     "text": [
      "Precision: 26.04\n",
      "Recall: 97.48\n",
      "F1: 41.1\n",
      "Contingency table:\n",
      "Predicted       0     1     All\n",
      "Actual                         \n",
      "0          115278  1318  116596\n",
      "1              12   464     476\n",
      "All        115290  1782  117072\n"
     ]
    },
    {
     "name": "stderr",
     "output_type": "stream",
     "text": [
      "100%|██████████| 14178/14178 [00:00<00:00, 76849.81it/s]\n"
     ]
    },
    {
     "name": "stdout",
     "output_type": "stream",
     "text": [
      "twit quality:\n",
      "Precision: 99.07\n",
      "Recall: 87.45\n",
      "F1: 92.9\n",
      "Contingency table:\n",
      "Predicted      0    1    All\n",
      "Actual                      \n",
      "0          13688    4  13692\n",
      "1             61  425    486\n",
      "All        13749  429  14178\n"
     ]
    }
   ],
   "source": [
    "\n",
    "def cld2_detector_func(text):\n",
    "    for best_effort in [False, True]:\n",
    "        try:\n",
    "            _, _, languages = cld2.detect(text, bestEffort=best_effort)\n",
    "        except cld2.error:\n",
    "            text = ''.join([l for l in text if unicodedata.category(l)[0] not in ('S', 'M', 'C')])\n",
    "            _, _, languages = cld2.detect(text, bestEffort=best_effort)\n",
    "\n",
    "        top_lang = sorted(languages, key=lambda l: l[2], reverse=True)[0][1]\n",
    "        if top_lang == 'un' and not best_effort:\n",
    "            continue # try with best effort\n",
    "        prediction = top_lang\n",
    "        binary_prediction = int(top_lang == 'ru')\n",
    "        break \n",
    "    return prediction, binary_prediction\n",
    "\n",
    "result_info = run_experiments(method_name, cld2_detector_func)\n",
    "    \n",
    "results.append(result_info)\n"
   ]
  },
  {
   "cell_type": "code",
   "execution_count": 28,
   "metadata": {},
   "outputs": [],
   "source": [
    "sample_errors(method_name, 'wili')\n",
    "sample_errors(method_name, 'twit')"
   ]
  },
  {
   "cell_type": "markdown",
   "metadata": {},
   "source": [
    "Значительную часть False Positive срабатываний алгоритм дает на языках малых народов РФ в датасете WiLI. False Negative срабатывания на WiLI в основном происходят, когда алгоритм не справляется с определением языка и выдает unknown. Кроме того, как видно из примеров, часть ошибок присутствует и в разметке датасетов."
   ]
  },
  {
   "cell_type": "markdown",
   "metadata": {},
   "source": [
    "## Span-based CLD2"
   ]
  },
  {
   "cell_type": "code",
   "execution_count": 29,
   "metadata": {},
   "outputs": [
    {
     "name": "stderr",
     "output_type": "stream",
     "text": [
      "100%|██████████| 117072/117072 [00:04<00:00, 25549.25it/s]\n"
     ]
    },
    {
     "name": "stdout",
     "output_type": "stream",
     "text": [
      "wili quality:\n"
     ]
    },
    {
     "name": "stderr",
     "output_type": "stream",
     "text": [
      " 64%|██████▍   | 9085/14178 [00:00<00:00, 90846.40it/s]"
     ]
    },
    {
     "name": "stdout",
     "output_type": "stream",
     "text": [
      "Precision: 59.36\n",
      "Recall: 89.92\n",
      "F1: 71.51\n",
      "Contingency table:\n",
      "Predicted       0    1     All\n",
      "Actual                        \n",
      "0          116303  293  116596\n",
      "1              48  428     476\n",
      "All        116351  721  117072\n"
     ]
    },
    {
     "name": "stderr",
     "output_type": "stream",
     "text": [
      "100%|██████████| 14178/14178 [00:00<00:00, 89853.63it/s]\n"
     ]
    },
    {
     "name": "stdout",
     "output_type": "stream",
     "text": [
      "twit quality:\n",
      "Precision: 99.7\n",
      "Recall: 68.11\n",
      "F1: 80.93\n",
      "Contingency table:\n",
      "Predicted      0    1    All\n",
      "Actual                      \n",
      "0          13691    1  13692\n",
      "1            155  331    486\n",
      "All        13846  332  14178\n"
     ]
    }
   ],
   "source": [
    "method_name = 'cld2_span'\n",
    "\n",
    "def cld2_span_detector_func(text):\n",
    "    absolute_threshold = 150\n",
    "    relative_threshold = 0.4\n",
    "    try:\n",
    "        _, _, languages, vectors = cld2.detect(text, bestEffort=False, returnVectors=True)\n",
    "    except cld2.error:\n",
    "        text = ''.join([l for l in text if unicodedata.category(l)[0] not in ('S', 'M', 'C')])\n",
    "        _, _, languages, vectors = cld2.detect(text, bestEffort=False, returnVectors=True)\n",
    "\n",
    "    is_russian = False\n",
    "\n",
    "    byte_count = len(text.encode())\n",
    "    for vector in vectors:\n",
    "        if vector[3] == 'ru':\n",
    "            if vector[1] > absolute_threshold or vector[1] / byte_count > relative_threshold:\n",
    "                is_russian = True\n",
    "        \n",
    "    prediction = sorted(languages, key=lambda l: l[2], reverse=True)[0][1]\n",
    "    binary_prediction = int(is_russian)\n",
    "    return prediction, binary_prediction\n",
    "\n",
    "result_info = run_experiments(method_name, cld2_span_detector_func)\n",
    "    \n",
    "results.append(result_info)\n",
    "\n"
   ]
  },
  {
   "cell_type": "code",
   "execution_count": 30,
   "metadata": {},
   "outputs": [],
   "source": [
    "sample_errors(method_name, 'wili')\n",
    "sample_errors(method_name, 'twit')"
   ]
  },
  {
   "cell_type": "markdown",
   "metadata": {},
   "source": [
    "## langdetect"
   ]
  },
  {
   "cell_type": "code",
   "execution_count": 31,
   "metadata": {},
   "outputs": [],
   "source": [
    "import langdetect\n",
    "langdetect.DetectorFactory.seed = 0"
   ]
  },
  {
   "cell_type": "code",
   "execution_count": 32,
   "metadata": {},
   "outputs": [
    {
     "name": "stdout",
     "output_type": "stream",
     "text": [
      "wili example predictions:\n",
      "ru\n",
      "\n",
      "twit example predictions:\n",
      "ru\n",
      "\n"
     ]
    }
   ],
   "source": [
    "method_name = 'langdetect'\n",
    "for data_name in data_names:\n",
    "    print(f'{data_name} example predictions:')\n",
    "    language = langdetect.detect(examples[data_name])\n",
    "    print(language)\n",
    "    print()\n"
   ]
  },
  {
   "cell_type": "code",
   "execution_count": 33,
   "metadata": {},
   "outputs": [
    {
     "name": "stderr",
     "output_type": "stream",
     "text": [
      "100%|██████████| 117072/117072 [14:40<00:00, 133.03it/s]\n"
     ]
    },
    {
     "name": "stdout",
     "output_type": "stream",
     "text": [
      "wili quality:\n"
     ]
    },
    {
     "name": "stderr",
     "output_type": "stream",
     "text": [
      "  0%|          | 24/14178 [00:00<00:59, 237.31it/s]"
     ]
    },
    {
     "name": "stdout",
     "output_type": "stream",
     "text": [
      "Precision: 4.37\n",
      "Recall: 99.79\n",
      "F1: 8.37\n",
      "Contingency table:\n",
      "Predicted       0      1     All\n",
      "Actual                          \n",
      "0          106195  10401  116596\n",
      "1               1    475     476\n",
      "All        106196  10876  117072\n"
     ]
    },
    {
     "name": "stderr",
     "output_type": "stream",
     "text": [
      "100%|██████████| 14178/14178 [01:17<00:00, 181.84it/s]"
     ]
    },
    {
     "name": "stdout",
     "output_type": "stream",
     "text": [
      "twit quality:\n",
      "Precision: 95.26\n",
      "Recall: 86.83\n",
      "F1: 90.85\n",
      "Contingency table:\n",
      "Predicted      0    1    All\n",
      "Actual                      \n",
      "0          13671   21  13692\n",
      "1             64  422    486\n",
      "All        13735  443  14178\n"
     ]
    },
    {
     "name": "stderr",
     "output_type": "stream",
     "text": [
      "\n"
     ]
    }
   ],
   "source": [
    "def langdetect_detector_func(text):\n",
    "    try:\n",
    "        prediction = langdetect.detect(text)\n",
    "    except langdetect.lang_detect_exception.LangDetectException:\n",
    "        prediction = 'unknown'\n",
    "    binary_prediction = int(prediction == 'ru')\n",
    "    return prediction, binary_prediction\n",
    "\n",
    "result_info = run_experiments(method_name, langdetect_detector_func)\n",
    "    \n",
    "results.append(result_info)\n"
   ]
  },
  {
   "cell_type": "code",
   "execution_count": 34,
   "metadata": {},
   "outputs": [],
   "source": [
    "sample_errors(method_name, 'wili')\n",
    "sample_errors(method_name, 'twit')"
   ]
  },
  {
   "cell_type": "markdown",
   "metadata": {},
   "source": [
    "В списке поддерживаемых языков библиотеки langdetect не содержится даже белорусского и казахского, поэтому получается много ложноположительных срабатываний. Тем не менее, полнота получается хорошей."
   ]
  },
  {
   "cell_type": "markdown",
   "metadata": {},
   "source": [
    "## guess_language"
   ]
  },
  {
   "cell_type": "code",
   "execution_count": 35,
   "metadata": {},
   "outputs": [
    {
     "name": "stdout",
     "output_type": "stream",
     "text": [
      "wili example predictions:\n",
      "ru\n",
      "\n",
      "twit example predictions:\n",
      "ru\n",
      "\n"
     ]
    }
   ],
   "source": [
    "from guess_language import guess_language\n",
    "method_name = 'guess_language'\n",
    "for data_name in data_names:\n",
    "    print(f'{data_name} example predictions:')\n",
    "    language = guess_language(examples[data_name])\n",
    "    print(language)\n",
    "    print()\n"
   ]
  },
  {
   "cell_type": "code",
   "execution_count": 36,
   "metadata": {},
   "outputs": [
    {
     "name": "stderr",
     "output_type": "stream",
     "text": [
      "100%|██████████| 117072/117072 [01:59<00:00, 976.33it/s] \n"
     ]
    },
    {
     "name": "stdout",
     "output_type": "stream",
     "text": [
      "wili quality:\n"
     ]
    },
    {
     "name": "stderr",
     "output_type": "stream",
     "text": [
      "  2%|▏         | 316/14178 [00:00<00:04, 3157.27it/s]"
     ]
    },
    {
     "name": "stdout",
     "output_type": "stream",
     "text": [
      "Precision: 18.93\n",
      "Recall: 89.92\n",
      "F1: 31.28\n",
      "Contingency table:\n",
      "Predicted       0     1     All\n",
      "Actual                         \n",
      "0          114763  1833  116596\n",
      "1              48   428     476\n",
      "All        114811  2261  117072\n"
     ]
    },
    {
     "name": "stderr",
     "output_type": "stream",
     "text": [
      "100%|██████████| 14178/14178 [00:04<00:00, 3278.10it/s]\n"
     ]
    },
    {
     "name": "stdout",
     "output_type": "stream",
     "text": [
      "twit quality:\n",
      "Precision: 90.66\n",
      "Recall: 61.93\n",
      "F1: 73.59\n",
      "Contingency table:\n",
      "Predicted      0    1    All\n",
      "Actual                      \n",
      "0          13661   31  13692\n",
      "1            185  301    486\n",
      "All        13846  332  14178\n"
     ]
    }
   ],
   "source": [
    "def guess_language_detector_func(text):\n",
    "    prediction = guess_language(text)\n",
    "    binary_prediction = int(prediction == 'ru')\n",
    "    return prediction, binary_prediction\n",
    "\n",
    "result_info = run_experiments(method_name, guess_language_detector_func)\n",
    "    \n",
    "results.append(result_info)"
   ]
  },
  {
   "cell_type": "code",
   "execution_count": 37,
   "metadata": {},
   "outputs": [],
   "source": [
    "sample_errors(method_name, 'wili')\n",
    "sample_errors(method_name, 'twit')"
   ]
  },
  {
   "cell_type": "markdown",
   "metadata": {},
   "source": [
    "## langid"
   ]
  },
  {
   "cell_type": "code",
   "execution_count": 38,
   "metadata": {},
   "outputs": [
    {
     "name": "stdout",
     "output_type": "stream",
     "text": [
      "wili example predictions:\n",
      "('ru', -16214.29053735733)\n",
      "\n",
      "twit example predictions:\n",
      "('ru', -545.5707614421844)\n",
      "\n"
     ]
    }
   ],
   "source": [
    "import langid\n",
    "method_name = 'langid'\n",
    "for data_name in data_names:\n",
    "    print(f'{data_name} example predictions:')\n",
    "    language = langid.classify(examples[data_name])\n",
    "    print(language)\n",
    "    print()"
   ]
  },
  {
   "cell_type": "code",
   "execution_count": 39,
   "metadata": {},
   "outputs": [
    {
     "name": "stderr",
     "output_type": "stream",
     "text": [
      "100%|██████████| 117072/117072 [02:46<00:00, 701.69it/s]\n"
     ]
    },
    {
     "name": "stdout",
     "output_type": "stream",
     "text": [
      "wili quality:\n"
     ]
    },
    {
     "name": "stderr",
     "output_type": "stream",
     "text": [
      "  1%|          | 118/14178 [00:00<00:11, 1175.97it/s]"
     ]
    },
    {
     "name": "stdout",
     "output_type": "stream",
     "text": [
      "Precision: 6.96\n",
      "Recall: 100.0\n",
      "F1: 13.01\n",
      "Contingency table:\n",
      "Predicted       0     1     All\n",
      "Actual                         \n",
      "0          110232  6364  116596\n",
      "1               0   476     476\n",
      "All        110232  6840  117072\n"
     ]
    },
    {
     "name": "stderr",
     "output_type": "stream",
     "text": [
      "100%|██████████| 14178/14178 [00:13<00:00, 1056.46it/s]\n"
     ]
    },
    {
     "name": "stdout",
     "output_type": "stream",
     "text": [
      "twit quality:\n",
      "Precision: 95.29\n",
      "Recall: 87.45\n",
      "F1: 91.2\n",
      "Contingency table:\n",
      "Predicted      0    1    All\n",
      "Actual                      \n",
      "0          13671   21  13692\n",
      "1             61  425    486\n",
      "All        13732  446  14178\n"
     ]
    }
   ],
   "source": [
    "def langid_detector_func(text):\n",
    "    prediction = langid.classify(text)[0]\n",
    "    binary_prediction = int(prediction == 'ru')\n",
    "    return prediction, binary_prediction\n",
    "\n",
    "result_info = run_experiments(method_name, langid_detector_func)\n",
    "    \n",
    "results.append(result_info)"
   ]
  },
  {
   "cell_type": "code",
   "execution_count": 40,
   "metadata": {},
   "outputs": [],
   "source": [
    "sample_errors(method_name, 'wili')\n",
    "sample_errors(method_name, 'twit')"
   ]
  },
  {
   "cell_type": "markdown",
   "metadata": {},
   "source": [
    "## fasttext large"
   ]
  },
  {
   "cell_type": "code",
   "execution_count": 41,
   "metadata": {},
   "outputs": [],
   "source": [
    "models_dir = 'models'\n",
    "if not os.path.isdir(models_dir):\n",
    "    os.mkdir(models_dir)"
   ]
  },
  {
   "cell_type": "code",
   "execution_count": 42,
   "metadata": {},
   "outputs": [
    {
     "name": "stdout",
     "output_type": "stream",
     "text": [
      "--2020-07-19 19:33:23--  https://dl.fbaipublicfiles.com/fasttext/supervised-models/lid.176.bin\n",
      "Распознаётся dl.fbaipublicfiles.com (dl.fbaipublicfiles.com)… 172.67.9.4, 104.22.74.142, 104.22.75.142, ...\n",
      "Подключение к dl.fbaipublicfiles.com (dl.fbaipublicfiles.com)|172.67.9.4|:443... соединение установлено.\n",
      "HTTP-запрос отправлен. Ожидание ответа… 200 OK\n",
      "Длина: 131266198 (125M) [application/octet-stream]\n",
      "Сохранение в: «models/lid.176.bin»\n",
      "\n",
      "lid.176.bin         100%[===================>] 125,18M  3,81MB/s    за 33s     \n",
      "\n",
      "2020-07-19 19:33:57 (3,75 MB/s) - «models/lid.176.bin» сохранён [131266198/131266198]\n",
      "\n",
      "--2020-07-19 19:33:57--  https://dl.fbaipublicfiles.com/fasttext/supervised-models/lid.176.ftz\n",
      "Распознаётся dl.fbaipublicfiles.com (dl.fbaipublicfiles.com)… 104.22.75.142, 104.22.74.142, 172.67.9.4, ...\n",
      "Подключение к dl.fbaipublicfiles.com (dl.fbaipublicfiles.com)|104.22.75.142|:443... соединение установлено.\n",
      "HTTP-запрос отправлен. Ожидание ответа… 200 OK\n",
      "Длина: 938013 (916K) [binary/octet-stream]\n",
      "Сохранение в: «models/lid.176.ftz»\n",
      "\n",
      "lid.176.ftz         100%[===================>] 916,03K   862KB/s    за 1,1s    \n",
      "\n",
      "2020-07-19 19:33:59 (862 KB/s) - «models/lid.176.ftz» сохранён [938013/938013]\n",
      "\n"
     ]
    }
   ],
   "source": [
    "! wget https://dl.fbaipublicfiles.com/fasttext/supervised-models/lid.176.bin -P $models_dir\n",
    "! wget https://dl.fbaipublicfiles.com/fasttext/supervised-models/lid.176.ftz -P $models_dir"
   ]
  },
  {
   "cell_type": "code",
   "execution_count": 43,
   "metadata": {},
   "outputs": [
    {
     "name": "stdout",
     "output_type": "stream",
     "text": [
      "wili example predictions:\n",
      "(('__label__ru',), array([0.99247408]))\n",
      "\n",
      "twit example predictions:\n",
      "(('__label__en',), array([0.62909627]))\n",
      "\n"
     ]
    },
    {
     "name": "stderr",
     "output_type": "stream",
     "text": [
      "Warning : `load_model` does not return WordVectorModel or SupervisedModel any more, but a `FastText` object which is very similar.\n"
     ]
    }
   ],
   "source": [
    "import fasttext\n",
    "method_name = 'fasttext_large'\n",
    "model = fasttext.load_model(os.path.join(models_dir, 'lid.176.bin'))\n",
    "\n",
    "for data_name in data_names:\n",
    "    print(f'{data_name} example predictions:')\n",
    "    language = model.predict(examples[data_name])\n",
    "    print(language)\n",
    "    print()"
   ]
  },
  {
   "cell_type": "code",
   "execution_count": 44,
   "metadata": {},
   "outputs": [
    {
     "name": "stderr",
     "output_type": "stream",
     "text": [
      "100%|██████████| 117072/117072 [00:09<00:00, 11833.62it/s]\n"
     ]
    },
    {
     "name": "stdout",
     "output_type": "stream",
     "text": [
      "wili quality:\n"
     ]
    },
    {
     "name": "stderr",
     "output_type": "stream",
     "text": [
      " 29%|██▉       | 4109/14178 [00:00<00:00, 41086.51it/s]"
     ]
    },
    {
     "name": "stdout",
     "output_type": "stream",
     "text": [
      "Precision: 15.46\n",
      "Recall: 100.0\n",
      "F1: 26.78\n",
      "Contingency table:\n",
      "Predicted       0     1     All\n",
      "Actual                         \n",
      "0          113993  2603  116596\n",
      "1               0   476     476\n",
      "All        113993  3079  117072\n"
     ]
    },
    {
     "name": "stderr",
     "output_type": "stream",
     "text": [
      "100%|██████████| 14178/14178 [00:00<00:00, 39235.36it/s]\n"
     ]
    },
    {
     "name": "stdout",
     "output_type": "stream",
     "text": [
      "twit quality:\n",
      "Precision: 92.51\n",
      "Recall: 94.03\n",
      "F1: 93.27\n",
      "Contingency table:\n",
      "Predicted      0    1    All\n",
      "Actual                      \n",
      "0          13655   37  13692\n",
      "1             29  457    486\n",
      "All        13684  494  14178\n"
     ]
    }
   ],
   "source": [
    "def fasttext_large_detector_func(text):\n",
    "    max_len = 0\n",
    "    russian_lines_threshold = 1\n",
    "    russian_lines_count = 0\n",
    "    for line in text.split('\\n'):\n",
    "        if len(line) > 0:\n",
    "            labels, probs = model.predict(line)\n",
    "            line_prediction = labels[0]\n",
    "            if len(line) > max_len:\n",
    "                prediction = line_prediction\n",
    "            if line_prediction == '__label__ru':\n",
    "                russian_lines_count += 1\n",
    "    binary_prediction = int(russian_lines_count >= russian_lines_threshold)\n",
    "    return prediction, binary_prediction\n",
    "\n",
    "result_info = run_experiments(method_name, fasttext_large_detector_func)\n",
    "    \n",
    "results.append(result_info)"
   ]
  },
  {
   "cell_type": "code",
   "execution_count": 45,
   "metadata": {},
   "outputs": [],
   "source": [
    "sample_errors(method_name, 'wili')\n",
    "sample_errors(method_name, 'twit')"
   ]
  },
  {
   "cell_type": "markdown",
   "metadata": {},
   "source": [
    "## fasttext small"
   ]
  },
  {
   "cell_type": "code",
   "execution_count": 46,
   "metadata": {},
   "outputs": [
    {
     "name": "stderr",
     "output_type": "stream",
     "text": [
      "Warning : `load_model` does not return WordVectorModel or SupervisedModel any more, but a `FastText` object which is very similar.\n"
     ]
    },
    {
     "name": "stdout",
     "output_type": "stream",
     "text": [
      "wili example predictions:\n",
      "(('__label__ru', '__label__uk', '__label__bg'), array([0.98422682, 0.00315844, 0.00187241]))\n",
      "\n",
      "twit example predictions:\n",
      "(('__label__ru', '__label__en', '__label__bg'), array([0.67258328, 0.14391996, 0.03274   ]))\n",
      "\n"
     ]
    }
   ],
   "source": [
    "import fasttext\n",
    "method_name = 'fasttext_small'\n",
    "model = fasttext.load_model(os.path.join(models_dir, 'lid.176.ftz'))\n",
    "\n",
    "for data_name in data_names:\n",
    "    print(f'{data_name} example predictions:')\n",
    "    language = model.predict(examples[data_name], k=3)\n",
    "    print(language)\n",
    "    print()"
   ]
  },
  {
   "cell_type": "code",
   "execution_count": 47,
   "metadata": {},
   "outputs": [
    {
     "name": "stderr",
     "output_type": "stream",
     "text": [
      "100%|██████████| 117072/117072 [00:13<00:00, 8649.19it/s]\n"
     ]
    },
    {
     "name": "stdout",
     "output_type": "stream",
     "text": [
      "wili quality:\n"
     ]
    },
    {
     "name": "stderr",
     "output_type": "stream",
     "text": [
      " 21%|██        | 2960/14178 [00:00<00:00, 29591.42it/s]"
     ]
    },
    {
     "name": "stdout",
     "output_type": "stream",
     "text": [
      "Precision: 11.34\n",
      "Recall: 100.0\n",
      "F1: 20.38\n",
      "Contingency table:\n",
      "Predicted       0     1     All\n",
      "Actual                         \n",
      "0          112876  3720  116596\n",
      "1               0   476     476\n",
      "All        112876  4196  117072\n"
     ]
    },
    {
     "name": "stderr",
     "output_type": "stream",
     "text": [
      "100%|██████████| 14178/14178 [00:00<00:00, 29002.70it/s]\n"
     ]
    },
    {
     "name": "stdout",
     "output_type": "stream",
     "text": [
      "twit quality:\n",
      "Precision: 89.35\n",
      "Recall: 96.71\n",
      "F1: 92.89\n",
      "Contingency table:\n",
      "Predicted      0    1    All\n",
      "Actual                      \n",
      "0          13636   56  13692\n",
      "1             16  470    486\n",
      "All        13652  526  14178\n"
     ]
    }
   ],
   "source": [
    "def fasttext_small_detector_func(text):\n",
    "    max_len = 0\n",
    "    russian_lines_threshold = 1\n",
    "    russian_lines_count = 0\n",
    "    for line in text.split('\\n'):\n",
    "        if len(line) > 0:\n",
    "            labels, probs = model.predict(line)\n",
    "            line_prediction = labels[0]\n",
    "            if len(line) > max_len:\n",
    "                prediction = line_prediction\n",
    "            if line_prediction == '__label__ru':\n",
    "                russian_lines_count += 1\n",
    "    binary_prediction = int(russian_lines_count >= russian_lines_threshold)\n",
    "    return prediction, binary_prediction\n",
    "\n",
    "result_info = run_experiments(method_name, fasttext_small_detector_func)\n",
    "    \n",
    "results.append(result_info)"
   ]
  },
  {
   "cell_type": "code",
   "execution_count": 48,
   "metadata": {},
   "outputs": [],
   "source": [
    "sample_errors(method_name, 'wili')\n",
    "sample_errors(method_name, 'twit')"
   ]
  },
  {
   "cell_type": "markdown",
   "metadata": {},
   "source": [
    "## CLD3 single"
   ]
  },
  {
   "cell_type": "code",
   "execution_count": 49,
   "metadata": {},
   "outputs": [
    {
     "name": "stdout",
     "output_type": "stream",
     "text": [
      "wili example predictions:\n",
      "LanguagePrediction(language='ru', probability=0.9999065399169922, is_reliable=True, proportion=1.0)\n",
      "\n",
      "twit example predictions:\n",
      "LanguagePrediction(language='en', probability=0.43939343094825745, is_reliable=False, proportion=1.0)\n",
      "\n"
     ]
    }
   ],
   "source": [
    "import cld3\n",
    "method_name = 'cld3_single'\n",
    "\n",
    "for data_name in data_names:\n",
    "    print(f'{data_name} example predictions:')\n",
    "    language = cld3.get_language(examples[data_name])\n",
    "    print(language)\n",
    "    print()"
   ]
  },
  {
   "cell_type": "code",
   "execution_count": 50,
   "metadata": {},
   "outputs": [
    {
     "name": "stderr",
     "output_type": "stream",
     "text": [
      "100%|██████████| 117072/117072 [01:18<00:00, 1489.31it/s]\n"
     ]
    },
    {
     "name": "stdout",
     "output_type": "stream",
     "text": [
      "wili quality:\n"
     ]
    },
    {
     "name": "stderr",
     "output_type": "stream",
     "text": [
      "  3%|▎         | 434/14178 [00:00<00:03, 4339.37it/s]"
     ]
    },
    {
     "name": "stdout",
     "output_type": "stream",
     "text": [
      "Precision: 15.04\n",
      "Recall: 100.0\n",
      "F1: 26.15\n",
      "Contingency table:\n",
      "Predicted       0     1     All\n",
      "Actual                         \n",
      "0          113907  2689  116596\n",
      "1               0   476     476\n",
      "All        113907  3165  117072\n"
     ]
    },
    {
     "name": "stderr",
     "output_type": "stream",
     "text": [
      "100%|██████████| 14178/14178 [00:02<00:00, 4755.53it/s]\n"
     ]
    },
    {
     "name": "stdout",
     "output_type": "stream",
     "text": [
      "twit quality:\n",
      "Precision: 95.2\n",
      "Recall: 73.46\n",
      "F1: 82.93\n",
      "Contingency table:\n",
      "Predicted      0    1    All\n",
      "Actual                      \n",
      "0          13674   18  13692\n",
      "1            129  357    486\n",
      "All        13803  375  14178\n"
     ]
    }
   ],
   "source": [
    "def cld3_single_detector_func(text):\n",
    "    language = cld3.get_language(text)\n",
    "    prediction = language.language\n",
    "    binary_prediction = int(prediction == 'ru')\n",
    "    return prediction, binary_prediction\n",
    "\n",
    "result_info = run_experiments(method_name, cld3_single_detector_func)\n",
    "    \n",
    "results.append(result_info)"
   ]
  },
  {
   "cell_type": "code",
   "execution_count": 51,
   "metadata": {},
   "outputs": [],
   "source": [
    "sample_errors(method_name, 'wili')\n",
    "sample_errors(method_name, 'twit')"
   ]
  },
  {
   "cell_type": "markdown",
   "metadata": {},
   "source": [
    "## CLD3 multiple"
   ]
  },
  {
   "cell_type": "code",
   "execution_count": 52,
   "metadata": {},
   "outputs": [
    {
     "name": "stdout",
     "output_type": "stream",
     "text": [
      "wili example predictions:\n",
      "LanguagePrediction(language='ru', probability=0.9997794032096863, is_reliable=True, proportion=0.9173457622528076)\n",
      "LanguagePrediction(language='de', probability=0.9997711181640625, is_reliable=True, proportion=0.08265425264835358)\n",
      "\n",
      "twit example predictions:\n",
      "LanguagePrediction(language='sr', probability=0.7208172082901001, is_reliable=True, proportion=0.5952380895614624)\n",
      "LanguagePrediction(language='sn', probability=0.6508762836456299, is_reliable=False, proportion=0.4047619104385376)\n",
      "\n"
     ]
    }
   ],
   "source": [
    "method_name = 'cld3_multiple'\n",
    "\n",
    "for data_name in data_names:\n",
    "    print(f'{data_name} example predictions:')\n",
    "    languages = cld3.get_frequent_languages(examples[data_name], num_langs=5)\n",
    "    for lang in languages:\n",
    "        print(lang)\n",
    "    print()"
   ]
  },
  {
   "cell_type": "code",
   "execution_count": 53,
   "metadata": {},
   "outputs": [
    {
     "name": "stderr",
     "output_type": "stream",
     "text": [
      "100%|██████████| 117072/117072 [01:22<00:00, 1410.66it/s]\n"
     ]
    },
    {
     "name": "stdout",
     "output_type": "stream",
     "text": [
      "wili quality:\n"
     ]
    },
    {
     "name": "stderr",
     "output_type": "stream",
     "text": [
      "  3%|▎         | 443/14178 [00:00<00:03, 4427.62it/s]"
     ]
    },
    {
     "name": "stdout",
     "output_type": "stream",
     "text": [
      "Precision: 15.24\n",
      "Recall: 100.0\n",
      "F1: 26.45\n",
      "Contingency table:\n",
      "Predicted       0     1     All\n",
      "Actual                         \n",
      "0          113949  2647  116596\n",
      "1               0   476     476\n",
      "All        113949  3123  117072\n"
     ]
    },
    {
     "name": "stderr",
     "output_type": "stream",
     "text": [
      "100%|██████████| 14178/14178 [00:03<00:00, 4465.51it/s]\n"
     ]
    },
    {
     "name": "stdout",
     "output_type": "stream",
     "text": [
      "twit quality:\n",
      "Precision: 96.19\n",
      "Recall: 83.13\n",
      "F1: 89.18\n",
      "Contingency table:\n",
      "Predicted      0    1    All\n",
      "Actual                      \n",
      "0          13676   16  13692\n",
      "1             82  404    486\n",
      "All        13758  420  14178\n"
     ]
    }
   ],
   "source": [
    "def cld3_multiple_detector_func(text):\n",
    "    proportion_threshold = 0.4\n",
    "    languages = cld3.get_frequent_languages(text, num_langs=5)\n",
    "    if len(languages) > 0:\n",
    "        prediction = languages[0].language\n",
    "    else: \n",
    "        prediction = 'unknown'\n",
    "    is_russian = 0\n",
    "    for lang in languages:\n",
    "        if lang.proportion > proportion_threshold and lang.language == 'ru':\n",
    "            is_russian = 1\n",
    "    return prediction, is_russian\n",
    "\n",
    "result_info = run_experiments(method_name, cld3_multiple_detector_func)\n",
    "    \n",
    "results.append(result_info)"
   ]
  },
  {
   "cell_type": "code",
   "execution_count": 54,
   "metadata": {},
   "outputs": [
    {
     "data": {
      "text/html": [
       "<div>\n",
       "<style scoped>\n",
       "    .dataframe tbody tr th:only-of-type {\n",
       "        vertical-align: middle;\n",
       "    }\n",
       "\n",
       "    .dataframe tbody tr th {\n",
       "        vertical-align: top;\n",
       "    }\n",
       "\n",
       "    .dataframe thead th {\n",
       "        text-align: right;\n",
       "    }\n",
       "</style>\n",
       "<table border=\"1\" class=\"dataframe\">\n",
       "  <thead>\n",
       "    <tr style=\"text-align: right;\">\n",
       "      <th></th>\n",
       "      <th>method_name</th>\n",
       "      <th>wili_precision</th>\n",
       "      <th>wili_recall</th>\n",
       "      <th>wili_f1</th>\n",
       "      <th>wili_time</th>\n",
       "      <th>twit_precision</th>\n",
       "      <th>twit_recall</th>\n",
       "      <th>twit_f1</th>\n",
       "      <th>twit_time</th>\n",
       "    </tr>\n",
       "  </thead>\n",
       "  <tbody>\n",
       "    <tr>\n",
       "      <td>0</td>\n",
       "      <td>regex</td>\n",
       "      <td>2.96</td>\n",
       "      <td>100.00</td>\n",
       "      <td>5.75</td>\n",
       "      <td>0.82</td>\n",
       "      <td>55.18</td>\n",
       "      <td>99.79</td>\n",
       "      <td>71.06</td>\n",
       "      <td>0.03</td>\n",
       "    </tr>\n",
       "    <tr>\n",
       "      <td>1</td>\n",
       "      <td>cld2</td>\n",
       "      <td>26.04</td>\n",
       "      <td>97.48</td>\n",
       "      <td>41.10</td>\n",
       "      <td>4.81</td>\n",
       "      <td>99.07</td>\n",
       "      <td>87.45</td>\n",
       "      <td>92.90</td>\n",
       "      <td>0.19</td>\n",
       "    </tr>\n",
       "    <tr>\n",
       "      <td>2</td>\n",
       "      <td>cld2_span</td>\n",
       "      <td>59.36</td>\n",
       "      <td>89.92</td>\n",
       "      <td>71.51</td>\n",
       "      <td>4.58</td>\n",
       "      <td>99.70</td>\n",
       "      <td>68.11</td>\n",
       "      <td>80.93</td>\n",
       "      <td>0.16</td>\n",
       "    </tr>\n",
       "    <tr>\n",
       "      <td>3</td>\n",
       "      <td>langdetect</td>\n",
       "      <td>4.37</td>\n",
       "      <td>99.79</td>\n",
       "      <td>8.37</td>\n",
       "      <td>880.05</td>\n",
       "      <td>95.26</td>\n",
       "      <td>86.83</td>\n",
       "      <td>90.85</td>\n",
       "      <td>77.97</td>\n",
       "    </tr>\n",
       "    <tr>\n",
       "      <td>4</td>\n",
       "      <td>guess_language</td>\n",
       "      <td>18.93</td>\n",
       "      <td>89.92</td>\n",
       "      <td>31.28</td>\n",
       "      <td>119.91</td>\n",
       "      <td>90.66</td>\n",
       "      <td>61.93</td>\n",
       "      <td>73.59</td>\n",
       "      <td>4.33</td>\n",
       "    </tr>\n",
       "    <tr>\n",
       "      <td>5</td>\n",
       "      <td>langid</td>\n",
       "      <td>6.96</td>\n",
       "      <td>100.00</td>\n",
       "      <td>13.01</td>\n",
       "      <td>166.85</td>\n",
       "      <td>95.29</td>\n",
       "      <td>87.45</td>\n",
       "      <td>91.20</td>\n",
       "      <td>13.42</td>\n",
       "    </tr>\n",
       "    <tr>\n",
       "      <td>6</td>\n",
       "      <td>fasttext_large</td>\n",
       "      <td>15.46</td>\n",
       "      <td>100.00</td>\n",
       "      <td>26.78</td>\n",
       "      <td>9.89</td>\n",
       "      <td>92.51</td>\n",
       "      <td>94.03</td>\n",
       "      <td>93.27</td>\n",
       "      <td>0.36</td>\n",
       "    </tr>\n",
       "    <tr>\n",
       "      <td>7</td>\n",
       "      <td>fasttext_small</td>\n",
       "      <td>11.34</td>\n",
       "      <td>100.00</td>\n",
       "      <td>20.38</td>\n",
       "      <td>13.54</td>\n",
       "      <td>89.35</td>\n",
       "      <td>96.71</td>\n",
       "      <td>92.89</td>\n",
       "      <td>0.49</td>\n",
       "    </tr>\n",
       "    <tr>\n",
       "      <td>8</td>\n",
       "      <td>cld3_single</td>\n",
       "      <td>15.04</td>\n",
       "      <td>100.00</td>\n",
       "      <td>26.15</td>\n",
       "      <td>78.61</td>\n",
       "      <td>95.20</td>\n",
       "      <td>73.46</td>\n",
       "      <td>82.93</td>\n",
       "      <td>2.98</td>\n",
       "    </tr>\n",
       "    <tr>\n",
       "      <td>9</td>\n",
       "      <td>cld3_multiple</td>\n",
       "      <td>15.24</td>\n",
       "      <td>100.00</td>\n",
       "      <td>26.45</td>\n",
       "      <td>82.99</td>\n",
       "      <td>96.19</td>\n",
       "      <td>83.13</td>\n",
       "      <td>89.18</td>\n",
       "      <td>3.18</td>\n",
       "    </tr>\n",
       "  </tbody>\n",
       "</table>\n",
       "</div>"
      ],
      "text/plain": [
       "      method_name  wili_precision  wili_recall  wili_f1  wili_time  \\\n",
       "0           regex            2.96       100.00     5.75       0.82   \n",
       "1            cld2           26.04        97.48    41.10       4.81   \n",
       "2       cld2_span           59.36        89.92    71.51       4.58   \n",
       "3      langdetect            4.37        99.79     8.37     880.05   \n",
       "4  guess_language           18.93        89.92    31.28     119.91   \n",
       "5          langid            6.96       100.00    13.01     166.85   \n",
       "6  fasttext_large           15.46       100.00    26.78       9.89   \n",
       "7  fasttext_small           11.34       100.00    20.38      13.54   \n",
       "8     cld3_single           15.04       100.00    26.15      78.61   \n",
       "9   cld3_multiple           15.24       100.00    26.45      82.99   \n",
       "\n",
       "   twit_precision  twit_recall  twit_f1  twit_time  \n",
       "0           55.18        99.79    71.06       0.03  \n",
       "1           99.07        87.45    92.90       0.19  \n",
       "2           99.70        68.11    80.93       0.16  \n",
       "3           95.26        86.83    90.85      77.97  \n",
       "4           90.66        61.93    73.59       4.33  \n",
       "5           95.29        87.45    91.20      13.42  \n",
       "6           92.51        94.03    93.27       0.36  \n",
       "7           89.35        96.71    92.89       0.49  \n",
       "8           95.20        73.46    82.93       2.98  \n",
       "9           96.19        83.13    89.18       3.18  "
      ]
     },
     "execution_count": 54,
     "metadata": {},
     "output_type": "execute_result"
    }
   ],
   "source": [
    "df = pd.DataFrame(results)\n",
    "df"
   ]
  },
  {
   "cell_type": "markdown",
   "metadata": {},
   "source": [
    "Как показывает просмотр файлов с ошибками, все рассмотренные методы плохо справляются с внутренними языками РФ (не могут отличить русский от, например, мокшанского). Наиболее хорошо себя показывают модели fasttext_large и cld2 (как по качеству, так и по времени работы). Так как эти модели обеспечивают хорошую полноту, можно попробовать провести дальнейшую фильтрацию текстов, на которых классификатор дал положительное срабатывание, используя словарь русского языка. Fasttext дает полноту 100%, поэтому возьмем его."
   ]
  },
  {
   "cell_type": "markdown",
   "metadata": {},
   "source": [
    "## Улучшение результата"
   ]
  },
  {
   "cell_type": "code",
   "execution_count": 55,
   "metadata": {},
   "outputs": [],
   "source": [
    "from nltk.tokenize import wordpunct_tokenize\n",
    "import pymorphy2\n",
    "import string\n",
    "morph = pymorphy2.MorphAnalyzer()\n",
    "\n",
    "def remove_punctuation(text):\n",
    "    return text.translate(str.maketrans('', '', string.punctuation))"
   ]
  },
  {
   "cell_type": "code",
   "execution_count": 56,
   "metadata": {},
   "outputs": [
    {
     "name": "stderr",
     "output_type": "stream",
     "text": [
      "Warning : `load_model` does not return WordVectorModel or SupervisedModel any more, but a `FastText` object which is very similar.\n",
      "100%|██████████| 117072/117072 [00:11<00:00, 9913.73it/s] \n"
     ]
    },
    {
     "name": "stdout",
     "output_type": "stream",
     "text": [
      "wili quality:\n"
     ]
    },
    {
     "name": "stderr",
     "output_type": "stream",
     "text": [
      " 24%|██▎       | 3337/14178 [00:00<00:00, 33364.07it/s]"
     ]
    },
    {
     "name": "stdout",
     "output_type": "stream",
     "text": [
      "Precision: 54.18\n",
      "Recall: 99.37\n",
      "F1: 70.13\n",
      "Contingency table:\n",
      "Predicted       0    1     All\n",
      "Actual                        \n",
      "0          116196  400  116596\n",
      "1               3  473     476\n",
      "All        116199  873  117072\n"
     ]
    },
    {
     "name": "stderr",
     "output_type": "stream",
     "text": [
      "100%|██████████| 14178/14178 [00:00<00:00, 31318.33it/s]\n"
     ]
    },
    {
     "name": "stdout",
     "output_type": "stream",
     "text": [
      "twit quality:\n",
      "Precision: 97.1\n",
      "Recall: 89.51\n",
      "F1: 93.15\n",
      "Contingency table:\n",
      "Predicted      0    1    All\n",
      "Actual                      \n",
      "0          13679   13  13692\n",
      "1             51  435    486\n",
      "All        13730  448  14178\n"
     ]
    }
   ],
   "source": [
    "method_name = 'fasttext_dictionary'\n",
    "model = fasttext.load_model(os.path.join(models_dir, 'lid.176.bin'))\n",
    "\n",
    "def fasttext_dictionary_detector_func(text, russian_percent_threshold=0.5):\n",
    "    max_len = 0\n",
    "    russian_lines_threshold = 1\n",
    "    russian_lines_count = 0\n",
    "    for line in text.split('\\n'):\n",
    "        if len(line) == 0:\n",
    "            continue\n",
    "        labels, probs = model.predict(line)\n",
    "        line_prediction = labels[0]\n",
    "        if len(line) > max_len:\n",
    "            prediction = line_prediction\n",
    "        if line_prediction == '__label__ru':\n",
    "            russian_words_count = 0\n",
    "            words = wordpunct_tokenize(remove_punctuation(line.lower()))\n",
    "            words_count = len(words)\n",
    "            if words_count > 0:\n",
    "                for word in words:\n",
    "                    if morph.dictionary.word_is_known(word):\n",
    "                        russian_words_count += 1\n",
    "                if russian_words_count / words_count >= russian_percent_threshold:                 \n",
    "                    russian_lines_count += 1\n",
    "                    \n",
    "    binary_prediction = int(russian_lines_count >= russian_lines_threshold)\n",
    "            \n",
    "    return prediction, binary_prediction\n",
    "\n",
    "result_info = run_experiments(method_name, fasttext_dictionary_detector_func)\n",
    "    \n",
    "results.append(result_info)"
   ]
  },
  {
   "cell_type": "code",
   "execution_count": 57,
   "metadata": {},
   "outputs": [],
   "source": [
    "sample_errors(method_name, 'wili', 500)\n",
    "sample_errors(method_name, 'twit', 500)"
   ]
  },
  {
   "cell_type": "markdown",
   "metadata": {},
   "source": [
    "Ошибки на twitter-датасете:\n",
    "\n",
    "False Positive - ссылки с коротким описанием (половина с описанием \"Пост из твиттера.\", но метка - болгарский)\n",
    "\n",
    "False Negative - много никнеймов в тексте твита, ссылки, слова с повторяющимися буквами (\"Тооооже\"), несколько \"настоящих\" ошибок. \n",
    "\n",
    "Анализ ошибок на WiLI показывает, что значительная часть False Positive срабатываний на самом деле является ошибками разметки датасета (то есть текст на русском языке, но метка другая) или не прошедшими фильтр фрагментами списка литературы. Однако также большую часть положительных срабатываний составляет язык rue (русинский, пример ниже). Посчитаем количество ошибок на rue-текстах, а также общее количество таких текстов в датасете."
   ]
  },
  {
   "cell_type": "code",
   "execution_count": 58,
   "metadata": {},
   "outputs": [
    {
     "name": "stdout",
     "output_type": "stream",
     "text": [
      "В рр. 1931 аж 1936, в районѣ частым гостьом быв писатель з Чех Иван Олбрахт, што на мѣстном материалѣ написав роман Никола Шугай, розбойник (1933) добрѣ познатый читателям и на Украинѣ, де опубликованый в товмачѣню. Роман росповѣдать романтичну историю о розбойникови, свого рода карпатском Робин Гудови, котрый \"од богатых брав, а худобным роздавав\". Память писателя и его литературного героя хранять музеи в селѣ Колочава, недалеко од районного центра.\n"
     ]
    }
   ],
   "source": [
    "rue_text = texts['wili'][2383]\n",
    "print(rue_text)"
   ]
  },
  {
   "cell_type": "code",
   "execution_count": 59,
   "metadata": {},
   "outputs": [
    {
     "name": "stdout",
     "output_type": "stream",
     "text": [
      "Ошибочно классифицированы как русские 64 из 496 примеров на русинском языке (12.9%)\n"
     ]
    }
   ],
   "source": [
    "total_rue_count = np.sum([int(label == 'rue') for label in labels['wili']])\n",
    "y_pred = binary_predictions['fasttext_dictionary']['wili']\n",
    "\n",
    "def calc_misclassified_rue(y_pred):\n",
    "    misclassified_rue_count = 0\n",
    "    for i, yp in enumerate(y_pred):\n",
    "        if yp == 1 and labels['wili'][i] == 'rue':\n",
    "            misclassified_rue_count += 1\n",
    "    return misclassified_rue_count\n",
    "\n",
    "\n",
    "misclassified_rue_count = calc_misclassified_rue(y_pred)\n",
    "misclassified_percent = round(misclassified_rue_count / total_rue_count * 100, 2)\n",
    "\n",
    "print(f'Ошибочно классифицированы как русские {misclassified_rue_count} из {total_rue_count} примеров на русинском языке ({misclassified_percent}%)')"
   ]
  },
  {
   "cell_type": "markdown",
   "metadata": {},
   "source": [
    "Дальнейшая политика по поводу русинского языка зависит от продуктовых требований. Этот язык сильно похож на русский, поэтому модели для русского языка, способные получать векторные представления out-of-vocabulary слов, скорее всего, \"поймут\" смысл русинских текстов. Однако можно добиться уменьшения количества ошибок на русинских текстах, подняв порог `russian_percent_threshold` в функции (это приведет к уменьшению recall, баланс между метриками определяется целями применения данного классификатора).\n",
    "\n",
    "Учитывая природу ошибок, качество полученного алгоритма стоит считать хорошим, примененять его можно.\n",
    "\n",
    "Финальная таблица с результатами:"
   ]
  },
  {
   "cell_type": "code",
   "execution_count": 60,
   "metadata": {},
   "outputs": [
    {
     "data": {
      "text/html": [
       "<div>\n",
       "<style scoped>\n",
       "    .dataframe tbody tr th:only-of-type {\n",
       "        vertical-align: middle;\n",
       "    }\n",
       "\n",
       "    .dataframe tbody tr th {\n",
       "        vertical-align: top;\n",
       "    }\n",
       "\n",
       "    .dataframe thead th {\n",
       "        text-align: right;\n",
       "    }\n",
       "</style>\n",
       "<table border=\"1\" class=\"dataframe\">\n",
       "  <thead>\n",
       "    <tr style=\"text-align: right;\">\n",
       "      <th></th>\n",
       "      <th>method_name</th>\n",
       "      <th>wili_precision</th>\n",
       "      <th>wili_recall</th>\n",
       "      <th>wili_f1</th>\n",
       "      <th>wili_time</th>\n",
       "      <th>twit_precision</th>\n",
       "      <th>twit_recall</th>\n",
       "      <th>twit_f1</th>\n",
       "      <th>twit_time</th>\n",
       "    </tr>\n",
       "  </thead>\n",
       "  <tbody>\n",
       "    <tr>\n",
       "      <td>0</td>\n",
       "      <td>regex</td>\n",
       "      <td>2.96</td>\n",
       "      <td>100.00</td>\n",
       "      <td>5.75</td>\n",
       "      <td>0.82</td>\n",
       "      <td>55.18</td>\n",
       "      <td>99.79</td>\n",
       "      <td>71.06</td>\n",
       "      <td>0.03</td>\n",
       "    </tr>\n",
       "    <tr>\n",
       "      <td>1</td>\n",
       "      <td>cld2</td>\n",
       "      <td>26.04</td>\n",
       "      <td>97.48</td>\n",
       "      <td>41.10</td>\n",
       "      <td>4.81</td>\n",
       "      <td>99.07</td>\n",
       "      <td>87.45</td>\n",
       "      <td>92.90</td>\n",
       "      <td>0.19</td>\n",
       "    </tr>\n",
       "    <tr>\n",
       "      <td>2</td>\n",
       "      <td>cld2_span</td>\n",
       "      <td>59.36</td>\n",
       "      <td>89.92</td>\n",
       "      <td>71.51</td>\n",
       "      <td>4.58</td>\n",
       "      <td>99.70</td>\n",
       "      <td>68.11</td>\n",
       "      <td>80.93</td>\n",
       "      <td>0.16</td>\n",
       "    </tr>\n",
       "    <tr>\n",
       "      <td>3</td>\n",
       "      <td>langdetect</td>\n",
       "      <td>4.37</td>\n",
       "      <td>99.79</td>\n",
       "      <td>8.37</td>\n",
       "      <td>880.05</td>\n",
       "      <td>95.26</td>\n",
       "      <td>86.83</td>\n",
       "      <td>90.85</td>\n",
       "      <td>77.97</td>\n",
       "    </tr>\n",
       "    <tr>\n",
       "      <td>4</td>\n",
       "      <td>guess_language</td>\n",
       "      <td>18.93</td>\n",
       "      <td>89.92</td>\n",
       "      <td>31.28</td>\n",
       "      <td>119.91</td>\n",
       "      <td>90.66</td>\n",
       "      <td>61.93</td>\n",
       "      <td>73.59</td>\n",
       "      <td>4.33</td>\n",
       "    </tr>\n",
       "    <tr>\n",
       "      <td>5</td>\n",
       "      <td>langid</td>\n",
       "      <td>6.96</td>\n",
       "      <td>100.00</td>\n",
       "      <td>13.01</td>\n",
       "      <td>166.85</td>\n",
       "      <td>95.29</td>\n",
       "      <td>87.45</td>\n",
       "      <td>91.20</td>\n",
       "      <td>13.42</td>\n",
       "    </tr>\n",
       "    <tr>\n",
       "      <td>6</td>\n",
       "      <td>fasttext_large</td>\n",
       "      <td>15.46</td>\n",
       "      <td>100.00</td>\n",
       "      <td>26.78</td>\n",
       "      <td>9.89</td>\n",
       "      <td>92.51</td>\n",
       "      <td>94.03</td>\n",
       "      <td>93.27</td>\n",
       "      <td>0.36</td>\n",
       "    </tr>\n",
       "    <tr>\n",
       "      <td>7</td>\n",
       "      <td>fasttext_small</td>\n",
       "      <td>11.34</td>\n",
       "      <td>100.00</td>\n",
       "      <td>20.38</td>\n",
       "      <td>13.54</td>\n",
       "      <td>89.35</td>\n",
       "      <td>96.71</td>\n",
       "      <td>92.89</td>\n",
       "      <td>0.49</td>\n",
       "    </tr>\n",
       "    <tr>\n",
       "      <td>8</td>\n",
       "      <td>cld3_single</td>\n",
       "      <td>15.04</td>\n",
       "      <td>100.00</td>\n",
       "      <td>26.15</td>\n",
       "      <td>78.61</td>\n",
       "      <td>95.20</td>\n",
       "      <td>73.46</td>\n",
       "      <td>82.93</td>\n",
       "      <td>2.98</td>\n",
       "    </tr>\n",
       "    <tr>\n",
       "      <td>9</td>\n",
       "      <td>cld3_multiple</td>\n",
       "      <td>15.24</td>\n",
       "      <td>100.00</td>\n",
       "      <td>26.45</td>\n",
       "      <td>82.99</td>\n",
       "      <td>96.19</td>\n",
       "      <td>83.13</td>\n",
       "      <td>89.18</td>\n",
       "      <td>3.18</td>\n",
       "    </tr>\n",
       "    <tr>\n",
       "      <td>10</td>\n",
       "      <td>fasttext_dictionary</td>\n",
       "      <td>54.18</td>\n",
       "      <td>99.37</td>\n",
       "      <td>70.13</td>\n",
       "      <td>11.81</td>\n",
       "      <td>97.10</td>\n",
       "      <td>89.51</td>\n",
       "      <td>93.15</td>\n",
       "      <td>0.45</td>\n",
       "    </tr>\n",
       "  </tbody>\n",
       "</table>\n",
       "</div>"
      ],
      "text/plain": [
       "            method_name  wili_precision  wili_recall  wili_f1  wili_time  \\\n",
       "0                 regex            2.96       100.00     5.75       0.82   \n",
       "1                  cld2           26.04        97.48    41.10       4.81   \n",
       "2             cld2_span           59.36        89.92    71.51       4.58   \n",
       "3            langdetect            4.37        99.79     8.37     880.05   \n",
       "4        guess_language           18.93        89.92    31.28     119.91   \n",
       "5                langid            6.96       100.00    13.01     166.85   \n",
       "6        fasttext_large           15.46       100.00    26.78       9.89   \n",
       "7        fasttext_small           11.34       100.00    20.38      13.54   \n",
       "8           cld3_single           15.04       100.00    26.15      78.61   \n",
       "9         cld3_multiple           15.24       100.00    26.45      82.99   \n",
       "10  fasttext_dictionary           54.18        99.37    70.13      11.81   \n",
       "\n",
       "    twit_precision  twit_recall  twit_f1  twit_time  \n",
       "0            55.18        99.79    71.06       0.03  \n",
       "1            99.07        87.45    92.90       0.19  \n",
       "2            99.70        68.11    80.93       0.16  \n",
       "3            95.26        86.83    90.85      77.97  \n",
       "4            90.66        61.93    73.59       4.33  \n",
       "5            95.29        87.45    91.20      13.42  \n",
       "6            92.51        94.03    93.27       0.36  \n",
       "7            89.35        96.71    92.89       0.49  \n",
       "8            95.20        73.46    82.93       2.98  \n",
       "9            96.19        83.13    89.18       3.18  \n",
       "10           97.10        89.51    93.15       0.45  "
      ]
     },
     "execution_count": 60,
     "metadata": {},
     "output_type": "execute_result"
    }
   ],
   "source": [
    "pd.DataFrame(results)"
   ]
  }
 ],
 "metadata": {
  "kernelspec": {
   "display_name": "Python 3",
   "language": "python",
   "name": "python3"
  },
  "language_info": {
   "codemirror_mode": {
    "name": "ipython",
    "version": 3
   },
   "file_extension": ".py",
   "mimetype": "text/x-python",
   "name": "python",
   "nbconvert_exporter": "python",
   "pygments_lexer": "ipython3",
   "version": "3.7.4"
  }
 },
 "nbformat": 4,
 "nbformat_minor": 2
}
