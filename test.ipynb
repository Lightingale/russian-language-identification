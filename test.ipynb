{
 "cells": [
  {
   "cell_type": "code",
   "execution_count": 1,
   "metadata": {},
   "outputs": [],
   "source": [
    "from predict import predict_once, predict"
   ]
  },
  {
   "cell_type": "code",
   "execution_count": 2,
   "metadata": {},
   "outputs": [],
   "source": [
    "text = '''\n",
    "Представим, что вы -- разработчик в отделе машинного обучения и перед вами поставлена задача разработать модуль автоматического обнаружения русскоязычных текстов. На вход подаётся большой набор документов, среди которых нужно обнаружить тексты, содержащие значительные фрагменты на русском языке. Пример входных данных\n",
    "\n",
    " \n",
    "\n",
    "В компании нет обучающих данных, но вы можете собрать необходимые данные самостоятельно, разрешается использовать любые данные для обучения, готовые модели и программные средства, например, https://www.sketchengine.eu/guide/create-a-corpus-from-the-web.\n",
    "\n",
    " \n",
    "\n",
    "Требуется реализовать функцию predict, принимающую путь к папке, в которой содержатся тексты, сохраненные в формате .txt (utf-8). В каждом файле содержится ровно один текст. Функция генерирует в заданной папке файл с предсказаниями prediction.csv в формате (filename;answer), где answer -- 1 (содержит русский язык) или 0 (не содержит русского языка).\n",
    "'''"
   ]
  },
  {
   "cell_type": "code",
   "execution_count": 3,
   "metadata": {},
   "outputs": [
    {
     "name": "stdout",
     "output_type": "stream",
     "text": [
      "Downloading model to  models\n",
      "1\n"
     ]
    }
   ],
   "source": [
    "predict_once(text)"
   ]
  },
  {
   "cell_type": "code",
   "execution_count": 4,
   "metadata": {},
   "outputs": [
    {
     "name": "stdout",
     "output_type": "stream",
     "text": [
      "0\n"
     ]
    }
   ],
   "source": [
    "predict_once('english text')"
   ]
  },
  {
   "cell_type": "code",
   "execution_count": 5,
   "metadata": {},
   "outputs": [
    {
     "name": "stdout",
     "output_type": "stream",
     "text": [
      "1\n"
     ]
    }
   ],
   "source": [
    "predict_once('русский текст')"
   ]
  },
  {
   "cell_type": "code",
   "execution_count": 6,
   "metadata": {},
   "outputs": [
    {
     "name": "stdout",
     "output_type": "stream",
     "text": [
      "1\n"
     ]
    }
   ],
   "source": [
    "predict_once('русский текст english text русский текст')"
   ]
  },
  {
   "cell_type": "code",
   "execution_count": 7,
   "metadata": {},
   "outputs": [
    {
     "name": "stdout",
     "output_type": "stream",
     "text": [
      "0\n"
     ]
    }
   ],
   "source": [
    "predict_once('english text english text english text english text english text русский текст русский текст')"
   ]
  },
  {
   "cell_type": "code",
   "execution_count": 8,
   "metadata": {},
   "outputs": [
    {
     "name": "stdout",
     "output_type": "stream",
     "text": [
      "0\n"
     ]
    }
   ],
   "source": [
    "predict_once('123 342 5425 65')"
   ]
  },
  {
   "cell_type": "code",
   "execution_count": 9,
   "metadata": {},
   "outputs": [
    {
     "name": "stdout",
     "output_type": "stream",
     "text": [
      "1\n"
     ]
    }
   ],
   "source": [
    "predict_once('один')"
   ]
  },
  {
   "cell_type": "code",
   "execution_count": 10,
   "metadata": {},
   "outputs": [
    {
     "name": "stdout",
     "output_type": "stream",
     "text": [
      "0\n"
     ]
    }
   ],
   "source": [
    "text = '''\n",
    "Ру́ская мова[3], сустракаецца варыянт расе́йская мова (саманазва: русский язык) — усходнеславянская мова славянскае галіны ў складзе індаеўрапейскай моўнай сям'і.\n",
    "\n",
    "Руская мова родная для 167 мільёнаў чалавек, з якіх каля 137 мільёнаў пражывае ў Расіі. \n",
    "'''\n",
    "predict_once(text)"
   ]
  },
  {
   "cell_type": "code",
   "execution_count": 11,
   "metadata": {},
   "outputs": [
    {
     "name": "stdout",
     "output_type": "stream",
     "text": [
      "1\n"
     ]
    }
   ],
   "source": [
    "text = '''\n",
    "Англи́йский язы́к (самоназвание — English, the English language) — язык англо-фризской подгруппы западной группы германской ветви индоевропейской языковой семьи. \n",
    "'''\n",
    "predict_once(text)"
   ]
  },
  {
   "cell_type": "code",
   "execution_count": 12,
   "metadata": {},
   "outputs": [
    {
     "name": "stdout",
     "output_type": "stream",
     "text": [
      "1\n"
     ]
    }
   ],
   "source": [
    "text = '''\n",
    "Инглиз теле (үзисем — English, the English language) — инглизләрнең (Англиянең рәсми теле), АКШ халкының (31 штатта рәсми тел) туган теле; Ирландия, Канада, Мальта, Аустралия, Яңа Зеландия дәүләтләрендә рәсми тел. Шулай ук, кайсы бер Азия дәүләтләрендә рәсми тел булып кулланыла (мәсәлән Һиндстан).\n",
    "Английский язык возник в раннем Средневековье как язык части германских племён, вторгшихся в Британию.\n",
    "Инглиз теле туган тел булган кешеләрнең саны якынча 410 млн кеше, инглиз телендә сөйләшкәннәр саны — якынча 1,8 млрд кеше булып[2] ул бүген төп халыкара аралашу теле ролен уйный. БМО алты рәсми телләр арасында тора.'''\n",
    "predict_once(text)"
   ]
  },
  {
   "cell_type": "code",
   "execution_count": 13,
   "metadata": {},
   "outputs": [],
   "source": [
    "predict('data')"
   ]
  },
  {
   "cell_type": "code",
   "execution_count": 14,
   "metadata": {},
   "outputs": [
    {
     "data": {
      "text/html": [
       "<div>\n",
       "<style scoped>\n",
       "    .dataframe tbody tr th:only-of-type {\n",
       "        vertical-align: middle;\n",
       "    }\n",
       "\n",
       "    .dataframe tbody tr th {\n",
       "        vertical-align: top;\n",
       "    }\n",
       "\n",
       "    .dataframe thead th {\n",
       "        text-align: right;\n",
       "    }\n",
       "</style>\n",
       "<table border=\"1\" class=\"dataframe\">\n",
       "  <thead>\n",
       "    <tr style=\"text-align: right;\">\n",
       "      <th></th>\n",
       "      <th>filename</th>\n",
       "      <th>answer</th>\n",
       "    </tr>\n",
       "  </thead>\n",
       "  <tbody>\n",
       "    <tr>\n",
       "      <td>0</td>\n",
       "      <td>0.txt</td>\n",
       "      <td>0</td>\n",
       "    </tr>\n",
       "    <tr>\n",
       "      <td>1</td>\n",
       "      <td>1.txt</td>\n",
       "      <td>0</td>\n",
       "    </tr>\n",
       "    <tr>\n",
       "      <td>2</td>\n",
       "      <td>100.txt</td>\n",
       "      <td>0</td>\n",
       "    </tr>\n",
       "    <tr>\n",
       "      <td>3</td>\n",
       "      <td>1000.txt</td>\n",
       "      <td>0</td>\n",
       "    </tr>\n",
       "    <tr>\n",
       "      <td>4</td>\n",
       "      <td>1001.txt</td>\n",
       "      <td>0</td>\n",
       "    </tr>\n",
       "    <tr>\n",
       "      <td>...</td>\n",
       "      <td>...</td>\n",
       "      <td>...</td>\n",
       "    </tr>\n",
       "    <tr>\n",
       "      <td>2649</td>\n",
       "      <td>995.txt</td>\n",
       "      <td>1</td>\n",
       "    </tr>\n",
       "    <tr>\n",
       "      <td>2650</td>\n",
       "      <td>996.txt</td>\n",
       "      <td>0</td>\n",
       "    </tr>\n",
       "    <tr>\n",
       "      <td>2651</td>\n",
       "      <td>997.txt</td>\n",
       "      <td>0</td>\n",
       "    </tr>\n",
       "    <tr>\n",
       "      <td>2652</td>\n",
       "      <td>998.txt</td>\n",
       "      <td>0</td>\n",
       "    </tr>\n",
       "    <tr>\n",
       "      <td>2653</td>\n",
       "      <td>999.txt</td>\n",
       "      <td>0</td>\n",
       "    </tr>\n",
       "  </tbody>\n",
       "</table>\n",
       "<p>2654 rows × 2 columns</p>\n",
       "</div>"
      ],
      "text/plain": [
       "      filename  answer\n",
       "0        0.txt       0\n",
       "1        1.txt       0\n",
       "2      100.txt       0\n",
       "3     1000.txt       0\n",
       "4     1001.txt       0\n",
       "...        ...     ...\n",
       "2649   995.txt       1\n",
       "2650   996.txt       0\n",
       "2651   997.txt       0\n",
       "2652   998.txt       0\n",
       "2653   999.txt       0\n",
       "\n",
       "[2654 rows x 2 columns]"
      ]
     },
     "execution_count": 14,
     "metadata": {},
     "output_type": "execute_result"
    }
   ],
   "source": [
    "import pandas as pd\n",
    "pd.read_csv('data/prediction.csv')"
   ]
  },
  {
   "cell_type": "code",
   "execution_count": 15,
   "metadata": {},
   "outputs": [
    {
     "name": "stdout",
     "output_type": "stream",
     "text": [
      "Некоторые владельцы транспортных средств ищут различные методы избежания наказания за нарушения. Одним из таких является оформление автомобиля на несовершеннолетнего, однако поможет ли такой способ избежать наказания, знают не все.\n",
      "Когда можно избежать наказания. Оформление автомобиля на ребёнка действительно может помочь избежать наказания, отмечают эксперты. Однако действенным подобный метод окажется только в одном случае - если зарегистрирует нарушение дорожная камера. В России до 16 лет дети не несут административной ответственности, согласно статье 2.3 КоАП РФ.\n",
      "Тем не менее, при встрече с инспектором при совершении нарушения, избежать наказания уже не удастся. Протокол оформляется на того, кто находился за рулем, даже если транспортное средство принадлежит другому лицу.\n",
      "Законодательство. Начиная со следующего года в России будет запрещено проводить процедуру оформления транспортных средств на детей. Происходить процесс будет таким образом:\n",
      "Как отмечают эксперты, продать машину, оформленную на ребенка, обычно тяжело, органы опеки рассмотрят сделку и подтвердят ее, если права ребенка не были ущемлены.\n",
      "Поэтому юристы не советуют использовать метод оформления документов для избежания штрафов, расходы в данном случае окажутся намного большими, чем выгода.\n",
      "Итог. Некоторые автомобилисты используют приемы для избежания наказаний в случае нарушения ПДД. Одним из таких считается оформление документов на машину на ребенка, не достигшего 16 лет. Эксперты, тем не менее, не советуют прибегать к таким способам, ведь на самом деле штраф все же придется оплатить, а продать машину будет трудно.\n"
     ]
    }
   ],
   "source": [
    "with open('data/995.txt') as f:\n",
    "    print(f.read())"
   ]
  },
  {
   "cell_type": "code",
   "execution_count": 16,
   "metadata": {},
   "outputs": [
    {
     "name": "stdout",
     "output_type": "stream",
     "text": [
      "Contra su voluntad, el compañero Adolfo Cruz, secretario general de la sección Sindical de UGT en la EMT de València, y en aquel momento presidente del Comité de Empresa, saltó a los medios de comunicación por la presunta comisión de unos hechos acaecidos un año antes y calificados por la Dirección de la EMT como muy graves. La consecuencia disciplinaria fue la suspensión de empleo y sueldo del compañero durante dos meses, pero la mayor condena fue ver comprometido su buen nombre, su honorabilidad y su reputación.\n",
      "De la primera consecuencia, la sanción, quedó liberado el pasado 11 de septiembre, cuando la EMT reconoció en conciliación que no había causa contra Adolfo y la dejó sin efecto; de la segunda, no va a ser fácil resarcirle, por eso queremos desde su sindicato hacer al menos un intento.\n",
      "El compañero Adolfo es secretario general de la Sección Sindical de UGT en la EMT y ha sido el presidente de su Comité de Empresa; lo primero, porque los afiliados de nuestro sindicato lo valoran como persona capaz para defender sus intereses y ejemplaridad para representarlos, y lo segundo, porque los trabajadores otorgaron a la candidatura electoral por él encabezada en su momento la mayoría en la elecciones sindicales celebradas.\n",
      "Defender con firmeza el derecho a las jubilaciones parciales pactadas en convenio y cuestionadas por la Dirección, mantener una posición de firmeza en la negociación del nuevo convenio o, simplemente, ejercer la defensa de los intereses y derechos de los compañeros y compañeras en la EMT parece que se está convirtiendo en una actividad de riesgo. Pero es esto lo que, con gran entereza, ha venido haciendo la sección Sindical de UGT y al frente de ella el compañero Adolfo.\n",
      "Los que le conocemos y compartimos con él organización sindical, desde luego ese es mi caso, valoramos su valentía, su tenacidad y su compromiso, por eso nos duele tanto verle tan afectado por la situación que le ha tocado vivir y que creo no le va en el cargo y mucho menos en el sueldo, que es el que se corresponde con lo que es: un trabajador de la EMT.\n",
      "Así que valga la presente nota para reivindicarle, para reconocerle sus méritos y, sobre todo, para dejar constancia de su honorabilidad que es la que debe acompañar a su buen nombre.\n",
      "Ismael Sáez Vaquero es secretario general de UGT-PV\n"
     ]
    }
   ],
   "source": [
    "with open('data/996.txt') as f:\n",
    "    print(f.read())"
   ]
  },
  {
   "cell_type": "code",
   "execution_count": null,
   "metadata": {},
   "outputs": [],
   "source": []
  }
 ],
 "metadata": {
  "kernelspec": {
   "display_name": "Python 3",
   "language": "python",
   "name": "python3"
  },
  "language_info": {
   "codemirror_mode": {
    "name": "ipython",
    "version": 3
   },
   "file_extension": ".py",
   "mimetype": "text/x-python",
   "name": "python",
   "nbconvert_exporter": "python",
   "pygments_lexer": "ipython3",
   "version": "3.7.4"
  }
 },
 "nbformat": 4,
 "nbformat_minor": 2
}
